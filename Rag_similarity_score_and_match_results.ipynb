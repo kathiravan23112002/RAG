{
  "nbformat": 4,
  "nbformat_minor": 0,
  "metadata": {
    "colab": {
      "provenance": [],
      "authorship_tag": "ABX9TyO2tIifvu16HXoLyE64xwMA",
      "include_colab_link": true
    },
    "kernelspec": {
      "name": "python3",
      "display_name": "Python 3"
    },
    "language_info": {
      "name": "python"
    }
  },
  "cells": [
    {
      "cell_type": "markdown",
      "metadata": {
        "id": "view-in-github",
        "colab_type": "text"
      },
      "source": [
        "<a href=\"https://colab.research.google.com/github/kathiravan23112002/RAG/blob/main/Rag_similarity_score_and_match_results.ipynb\" target=\"_parent\"><img src=\"https://colab.research.google.com/assets/colab-badge.svg\" alt=\"Open In Colab\"/></a>"
      ]
    },
    {
      "cell_type": "code",
      "source": [
        "!pip install datasets\n",
        "!pip install faiss-cpu\n",
        "!pip install faiss-gpu\n",
        "!pip install sentence-transformers\n",
        "!pip install PyPDF2\n",
        "\n",
        "\n",
        "\n"
      ],
      "metadata": {
        "id": "u3ohJuOgK3qT"
      },
      "execution_count": null,
      "outputs": []
    },
    {
      "cell_type": "code",
      "source": [
        "from sentence_transformers import SentenceTransformer, util\n",
        "from PyPDF2 import PdfReader\n",
        "\n",
        "# Load the model\n",
        "model = SentenceTransformer('all-MiniLM-L6-v2')\n",
        "\n",
        "def extract_text_from_pdf(pdf_path):\n",
        "    text = \"\"\n",
        "    with open(pdf_path, \"rb\") as file:\n",
        "        reader = PdfReader(file)\n",
        "        for page in reader.pages:\n",
        "            text += page.extract_text()\n",
        "    return text\n",
        "\n",
        "def compare_document_to_template(document_path, template_path):\n",
        "    # Extract text from the document and the template\n",
        "    document_text = extract_text_from_pdf(document_path)\n",
        "    template_text = extract_text_from_pdf(template_path)\n",
        "\n",
        "    # Encode the document and the template\n",
        "    document_embedding = model.encode(document_text, convert_to_tensor=True)\n",
        "    template_embedding = model.encode(template_text, convert_to_tensor=True)\n",
        "\n",
        "    # Compute similarity\n",
        "    similarity = util.pytorch_cos_sim(document_embedding, template_embedding)\n",
        "    similarity_score = similarity.item()\n",
        "\n",
        "    # Generate match result and details\n",
        "    if similarity_score > 0.8:\n",
        "        match_result = \"High Match\"\n",
        "        details = \"The document closely follows the template, with substantial similarity in content or structure.\"\n",
        "    elif similarity_score > 0.5:\n",
        "        match_result = \"Moderate Match\"\n",
        "        details = \"The document has some similarities to the template, though there are notable differences.\"\n",
        "    else:\n",
        "        match_result = \"Low Match\"\n",
        "        details = \"The document does not closely resemble the template and has significant differences.\"\n",
        "\n",
        "    return match_result, similarity_score, details\n",
        "\n",
        "# Example paths\n",
        "document_path = \"/content/Creating a Template-v5-20240830_025649.pdf\"\n",
        "template_path = \"/content/Project Network API.pdf\"\n",
        "\n",
        "# Compare the document to the template\n",
        "match_result, similarity_score, details = compare_document_to_template(document_path, template_path)\n",
        "print(f\"Match Result: {match_result}\")\n",
        "print(f\"Similarity Score: {similarity_score:.2f}\")\n",
        "print(f\"Details: {details}\")\n"
      ],
      "metadata": {
        "colab": {
          "base_uri": "https://localhost:8080/"
        },
        "id": "Kewle1qruu9d",
        "outputId": "d8727104-8552-451e-a447-a8e4284fabb5"
      },
      "execution_count": 20,
      "outputs": [
        {
          "output_type": "stream",
          "name": "stdout",
          "text": [
            "Match Result: Low Match\n",
            "Similarity Score: 0.16\n",
            "Details: The document does not closely resemble the template and has significant differences.\n"
          ]
        }
      ]
    }
  ]
}